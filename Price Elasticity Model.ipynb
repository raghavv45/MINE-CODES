{
 "cells": [
  {
   "cell_type": "code",
   "execution_count": 20,
   "id": "8e89702e-e81e-4a6a-a0d5-31c73c6c5c0d",
   "metadata": {},
   "outputs": [],
   "source": [
    "#1.Preparing Data for Modelling"
   ]
  },
  {
   "cell_type": "code",
   "execution_count": 21,
   "id": "a234e6f1-ffb6-41f1-aa9b-71abbfe1f559",
   "metadata": {},
   "outputs": [],
   "source": [
    "import pandas as pd\n",
    "data = pd.read_csv('merged_data.csv')"
   ]
  },
  {
   "cell_type": "code",
   "execution_count": 22,
   "id": "143019ce-2179-4c8a-808a-ae3f99d0b0be",
   "metadata": {},
   "outputs": [
    {
     "data": {
      "text/html": [
       "<div>\n",
       "<style scoped>\n",
       "    .dataframe tbody tr th:only-of-type {\n",
       "        vertical-align: middle;\n",
       "    }\n",
       "\n",
       "    .dataframe tbody tr th {\n",
       "        vertical-align: top;\n",
       "    }\n",
       "\n",
       "    .dataframe thead th {\n",
       "        text-align: right;\n",
       "    }\n",
       "</style>\n",
       "<table border=\"1\" class=\"dataframe\">\n",
       "  <thead>\n",
       "    <tr style=\"text-align: right;\">\n",
       "      <th></th>\n",
       "      <th>ActivitySiteID</th>\n",
       "      <th>ActivityDescription_x</th>\n",
       "      <th>BookingEndDateTime (Month / Day / Year)_x</th>\n",
       "      <th>BookingStartTime_x</th>\n",
       "      <th>MaxBookees_x</th>\n",
       "      <th>Number Booked_x</th>\n",
       "      <th>Price (INR)_x</th>\n",
       "      <th>ActivityDescription_y</th>\n",
       "      <th>BookingEndDateTime (Month / Day / Year)_y</th>\n",
       "      <th>BookingStartTime_y</th>\n",
       "      <th>MaxBookees_y</th>\n",
       "      <th>Number Booked_y</th>\n",
       "      <th>Price (INR)_y</th>\n",
       "    </tr>\n",
       "  </thead>\n",
       "  <tbody>\n",
       "    <tr>\n",
       "      <th>0</th>\n",
       "      <td>HXP</td>\n",
       "      <td>20-20-20  2.45pm-3.45pm</td>\n",
       "      <td>2018-04-08</td>\n",
       "      <td>14:45:00</td>\n",
       "      <td>25</td>\n",
       "      <td>12</td>\n",
       "      <td>499.0</td>\n",
       "      <td>Aqua Fit 4pm - 5pm</td>\n",
       "      <td>2018-06-10</td>\n",
       "      <td>16:00:00</td>\n",
       "      <td>25</td>\n",
       "      <td>15</td>\n",
       "      <td>999</td>\n",
       "    </tr>\n",
       "    <tr>\n",
       "      <th>1</th>\n",
       "      <td>HXP</td>\n",
       "      <td>20-20-20  2.45pm-3.45pm</td>\n",
       "      <td>2018-04-08</td>\n",
       "      <td>14:45:00</td>\n",
       "      <td>25</td>\n",
       "      <td>12</td>\n",
       "      <td>499.0</td>\n",
       "      <td>Aqua Fit 4pm - 5pm</td>\n",
       "      <td>2018-06-17</td>\n",
       "      <td>16:00:00</td>\n",
       "      <td>25</td>\n",
       "      <td>13</td>\n",
       "      <td>999</td>\n",
       "    </tr>\n",
       "    <tr>\n",
       "      <th>2</th>\n",
       "      <td>HXP</td>\n",
       "      <td>20-20-20  2.45pm-3.45pm</td>\n",
       "      <td>2018-04-08</td>\n",
       "      <td>14:45:00</td>\n",
       "      <td>25</td>\n",
       "      <td>12</td>\n",
       "      <td>499.0</td>\n",
       "      <td>Aqua Fit 4pm - 5pm</td>\n",
       "      <td>2018-06-24</td>\n",
       "      <td>16:00:00</td>\n",
       "      <td>25</td>\n",
       "      <td>18</td>\n",
       "      <td>999</td>\n",
       "    </tr>\n",
       "    <tr>\n",
       "      <th>3</th>\n",
       "      <td>HXP</td>\n",
       "      <td>20-20-20  2.45pm-3.45pm</td>\n",
       "      <td>2018-04-08</td>\n",
       "      <td>14:45:00</td>\n",
       "      <td>25</td>\n",
       "      <td>12</td>\n",
       "      <td>499.0</td>\n",
       "      <td>Aqua Fit 12.15 -13.15</td>\n",
       "      <td>2018-06-01</td>\n",
       "      <td>12:15:00</td>\n",
       "      <td>25</td>\n",
       "      <td>14</td>\n",
       "      <td>999</td>\n",
       "    </tr>\n",
       "    <tr>\n",
       "      <th>4</th>\n",
       "      <td>HXP</td>\n",
       "      <td>20-20-20  2.45pm-3.45pm</td>\n",
       "      <td>2018-04-08</td>\n",
       "      <td>14:45:00</td>\n",
       "      <td>25</td>\n",
       "      <td>12</td>\n",
       "      <td>499.0</td>\n",
       "      <td>Aqua Fit 12.15 -13.15</td>\n",
       "      <td>2018-06-07</td>\n",
       "      <td>12:15:00</td>\n",
       "      <td>25</td>\n",
       "      <td>14</td>\n",
       "      <td>999</td>\n",
       "    </tr>\n",
       "    <tr>\n",
       "      <th>5</th>\n",
       "      <td>HXP</td>\n",
       "      <td>20-20-20  2.45pm-3.45pm</td>\n",
       "      <td>2018-04-08</td>\n",
       "      <td>14:45:00</td>\n",
       "      <td>25</td>\n",
       "      <td>12</td>\n",
       "      <td>499.0</td>\n",
       "      <td>Aqua Fit 12.15 -13.15</td>\n",
       "      <td>2018-06-08</td>\n",
       "      <td>12:15:00</td>\n",
       "      <td>25</td>\n",
       "      <td>15</td>\n",
       "      <td>999</td>\n",
       "    </tr>\n",
       "    <tr>\n",
       "      <th>6</th>\n",
       "      <td>HXP</td>\n",
       "      <td>20-20-20  2.45pm-3.45pm</td>\n",
       "      <td>2018-04-08</td>\n",
       "      <td>14:45:00</td>\n",
       "      <td>25</td>\n",
       "      <td>12</td>\n",
       "      <td>499.0</td>\n",
       "      <td>Aqua Fit 12.15 -13.15</td>\n",
       "      <td>2018-06-14</td>\n",
       "      <td>12:15:00</td>\n",
       "      <td>25</td>\n",
       "      <td>19</td>\n",
       "      <td>999</td>\n",
       "    </tr>\n",
       "    <tr>\n",
       "      <th>7</th>\n",
       "      <td>HXP</td>\n",
       "      <td>20-20-20  2.45pm-3.45pm</td>\n",
       "      <td>2018-04-08</td>\n",
       "      <td>14:45:00</td>\n",
       "      <td>25</td>\n",
       "      <td>12</td>\n",
       "      <td>499.0</td>\n",
       "      <td>Aqua Fit 12.15 -13.15</td>\n",
       "      <td>2018-06-15</td>\n",
       "      <td>12:15:00</td>\n",
       "      <td>25</td>\n",
       "      <td>15</td>\n",
       "      <td>999</td>\n",
       "    </tr>\n",
       "    <tr>\n",
       "      <th>8</th>\n",
       "      <td>HXP</td>\n",
       "      <td>20-20-20  2.45pm-3.45pm</td>\n",
       "      <td>2018-04-08</td>\n",
       "      <td>14:45:00</td>\n",
       "      <td>25</td>\n",
       "      <td>12</td>\n",
       "      <td>499.0</td>\n",
       "      <td>Aqua Fit 12.15 -13.15</td>\n",
       "      <td>2018-06-21</td>\n",
       "      <td>12:15:00</td>\n",
       "      <td>25</td>\n",
       "      <td>17</td>\n",
       "      <td>999</td>\n",
       "    </tr>\n",
       "    <tr>\n",
       "      <th>9</th>\n",
       "      <td>HXP</td>\n",
       "      <td>20-20-20  2.45pm-3.45pm</td>\n",
       "      <td>2018-04-08</td>\n",
       "      <td>14:45:00</td>\n",
       "      <td>25</td>\n",
       "      <td>12</td>\n",
       "      <td>499.0</td>\n",
       "      <td>Aqua Fit 12.15 -13.15</td>\n",
       "      <td>2018-06-22</td>\n",
       "      <td>12:15:00</td>\n",
       "      <td>25</td>\n",
       "      <td>16</td>\n",
       "      <td>999</td>\n",
       "    </tr>\n",
       "  </tbody>\n",
       "</table>\n",
       "</div>"
      ],
      "text/plain": [
       "  ActivitySiteID    ActivityDescription_x  \\\n",
       "0            HXP  20-20-20  2.45pm-3.45pm   \n",
       "1            HXP  20-20-20  2.45pm-3.45pm   \n",
       "2            HXP  20-20-20  2.45pm-3.45pm   \n",
       "3            HXP  20-20-20  2.45pm-3.45pm   \n",
       "4            HXP  20-20-20  2.45pm-3.45pm   \n",
       "5            HXP  20-20-20  2.45pm-3.45pm   \n",
       "6            HXP  20-20-20  2.45pm-3.45pm   \n",
       "7            HXP  20-20-20  2.45pm-3.45pm   \n",
       "8            HXP  20-20-20  2.45pm-3.45pm   \n",
       "9            HXP  20-20-20  2.45pm-3.45pm   \n",
       "\n",
       "  BookingEndDateTime (Month / Day / Year)_x BookingStartTime_x  MaxBookees_x  \\\n",
       "0                                2018-04-08           14:45:00            25   \n",
       "1                                2018-04-08           14:45:00            25   \n",
       "2                                2018-04-08           14:45:00            25   \n",
       "3                                2018-04-08           14:45:00            25   \n",
       "4                                2018-04-08           14:45:00            25   \n",
       "5                                2018-04-08           14:45:00            25   \n",
       "6                                2018-04-08           14:45:00            25   \n",
       "7                                2018-04-08           14:45:00            25   \n",
       "8                                2018-04-08           14:45:00            25   \n",
       "9                                2018-04-08           14:45:00            25   \n",
       "\n",
       "   Number Booked_x  Price (INR)_x  ActivityDescription_y  \\\n",
       "0               12          499.0     Aqua Fit 4pm - 5pm   \n",
       "1               12          499.0     Aqua Fit 4pm - 5pm   \n",
       "2               12          499.0     Aqua Fit 4pm - 5pm   \n",
       "3               12          499.0  Aqua Fit 12.15 -13.15   \n",
       "4               12          499.0  Aqua Fit 12.15 -13.15   \n",
       "5               12          499.0  Aqua Fit 12.15 -13.15   \n",
       "6               12          499.0  Aqua Fit 12.15 -13.15   \n",
       "7               12          499.0  Aqua Fit 12.15 -13.15   \n",
       "8               12          499.0  Aqua Fit 12.15 -13.15   \n",
       "9               12          499.0  Aqua Fit 12.15 -13.15   \n",
       "\n",
       "  BookingEndDateTime (Month / Day / Year)_y BookingStartTime_y  MaxBookees_y  \\\n",
       "0                                2018-06-10           16:00:00            25   \n",
       "1                                2018-06-17           16:00:00            25   \n",
       "2                                2018-06-24           16:00:00            25   \n",
       "3                                2018-06-01           12:15:00            25   \n",
       "4                                2018-06-07           12:15:00            25   \n",
       "5                                2018-06-08           12:15:00            25   \n",
       "6                                2018-06-14           12:15:00            25   \n",
       "7                                2018-06-15           12:15:00            25   \n",
       "8                                2018-06-21           12:15:00            25   \n",
       "9                                2018-06-22           12:15:00            25   \n",
       "\n",
       "   Number Booked_y  Price (INR)_y  \n",
       "0               15            999  \n",
       "1               13            999  \n",
       "2               18            999  \n",
       "3               14            999  \n",
       "4               14            999  \n",
       "5               15            999  \n",
       "6               19            999  \n",
       "7               15            999  \n",
       "8               17            999  \n",
       "9               16            999  "
      ]
     },
     "execution_count": 22,
     "metadata": {},
     "output_type": "execute_result"
    }
   ],
   "source": [
    "data.head(10)"
   ]
  },
  {
   "cell_type": "code",
   "execution_count": 23,
   "id": "d89ddeb5-f935-4817-ab70-a63bb60b13af",
   "metadata": {},
   "outputs": [],
   "source": [
    "# Extract relevant features\n",
    "features = data[[\n",
    "    'MaxBookees_x', 'Number Booked_x', 'Price (INR)_x',\n",
    "    'MaxBookees_y', 'Number Booked_y', 'Price (INR)_y'\n",
    "]]"
   ]
  },
  {
   "cell_type": "code",
   "execution_count": 24,
   "id": "7d2821ed-9891-4707-8465-2337b253972f",
   "metadata": {},
   "outputs": [],
   "source": [
    "#NO NEED TO REMOVTE THE MISSING VALUE BECAUSE WE DID IT IN COMPONENT 2 PART"
   ]
  },
  {
   "cell_type": "code",
   "execution_count": 25,
   "id": "e6893b91-0915-47d0-8ad9-057fe50d36fb",
   "metadata": {},
   "outputs": [],
   "source": [
    "# Convert data types if needed (example: ensure all columns are numeric)\n",
    "features = features.apply(pd.to_numeric, errors='coerce')"
   ]
  },
  {
   "cell_type": "code",
   "execution_count": 26,
   "id": "0b54de11-cabe-4c2c-9873-8c6651bdbeb0",
   "metadata": {},
   "outputs": [],
   "source": [
    "#IMPORTING LIBRARY\n",
    "from sklearn.preprocessing import StandardScaler"
   ]
  },
  {
   "cell_type": "code",
   "execution_count": 27,
   "id": "0c4b17e9-4ac0-4275-a99f-f2585c12798b",
   "metadata": {},
   "outputs": [],
   "source": [
    "# Scale the data (optional, but recommended for many models)\n",
    "scaler = StandardScaler()\n",
    "scaled_features = scaler.fit_transform(features)"
   ]
  },
  {
   "cell_type": "code",
   "execution_count": 28,
   "id": "2fd43a8a-25d6-4757-99c0-b781da7bfbc3",
   "metadata": {},
   "outputs": [
    {
     "name": "stdout",
     "output_type": "stream",
     "text": [
      "\n",
      "Transformed Data:\n",
      "   MaxBookees_x  Number Booked_x  Price (INR)_x  MaxBookees_y  \\\n",
      "0     -0.444365        -0.597088      -1.650087     -0.415564   \n",
      "1     -0.444365        -0.597088      -1.650087     -0.415564   \n",
      "2     -0.444365        -0.597088      -1.650087     -0.415564   \n",
      "3     -0.444365        -0.597088      -1.650087     -0.415564   \n",
      "4     -0.444365        -0.597088      -1.650087     -0.415564   \n",
      "\n",
      "   Number Booked_y  Price (INR)_y  \n",
      "0        -0.116782      -1.095764  \n",
      "1        -0.335995      -1.095764  \n",
      "2         0.212038      -1.095764  \n",
      "3        -0.226388      -1.095764  \n",
      "4        -0.226388      -1.095764  \n"
     ]
    }
   ],
   "source": [
    "# Convert scaled features back to a DataFrame\n",
    "scaled_features = pd.DataFrame(scaled_features, columns=features.columns)\n",
    "\n",
    "# Display first few rows of the transformed data\n",
    "print(\"\\nTransformed Data:\")\n",
    "print(scaled_features.head())"
   ]
  },
  {
   "cell_type": "code",
   "execution_count": 29,
   "id": "6e21308c-a7df-4e51-98ba-20c7ca694012",
   "metadata": {},
   "outputs": [
    {
     "data": {
      "text/html": [
       "<div>\n",
       "<style scoped>\n",
       "    .dataframe tbody tr th:only-of-type {\n",
       "        vertical-align: middle;\n",
       "    }\n",
       "\n",
       "    .dataframe tbody tr th {\n",
       "        vertical-align: top;\n",
       "    }\n",
       "\n",
       "    .dataframe thead th {\n",
       "        text-align: right;\n",
       "    }\n",
       "</style>\n",
       "<table border=\"1\" class=\"dataframe\">\n",
       "  <thead>\n",
       "    <tr style=\"text-align: right;\">\n",
       "      <th></th>\n",
       "      <th>MaxBookees_x</th>\n",
       "      <th>Number Booked_x</th>\n",
       "      <th>Price (INR)_x</th>\n",
       "      <th>MaxBookees_y</th>\n",
       "      <th>Number Booked_y</th>\n",
       "      <th>Price (INR)_y</th>\n",
       "    </tr>\n",
       "  </thead>\n",
       "  <tbody>\n",
       "    <tr>\n",
       "      <th>0</th>\n",
       "      <td>-0.444365</td>\n",
       "      <td>-0.597088</td>\n",
       "      <td>-1.650087</td>\n",
       "      <td>-0.415564</td>\n",
       "      <td>-0.116782</td>\n",
       "      <td>-1.095764</td>\n",
       "    </tr>\n",
       "    <tr>\n",
       "      <th>1</th>\n",
       "      <td>-0.444365</td>\n",
       "      <td>-0.597088</td>\n",
       "      <td>-1.650087</td>\n",
       "      <td>-0.415564</td>\n",
       "      <td>-0.335995</td>\n",
       "      <td>-1.095764</td>\n",
       "    </tr>\n",
       "    <tr>\n",
       "      <th>2</th>\n",
       "      <td>-0.444365</td>\n",
       "      <td>-0.597088</td>\n",
       "      <td>-1.650087</td>\n",
       "      <td>-0.415564</td>\n",
       "      <td>0.212038</td>\n",
       "      <td>-1.095764</td>\n",
       "    </tr>\n",
       "    <tr>\n",
       "      <th>3</th>\n",
       "      <td>-0.444365</td>\n",
       "      <td>-0.597088</td>\n",
       "      <td>-1.650087</td>\n",
       "      <td>-0.415564</td>\n",
       "      <td>-0.226388</td>\n",
       "      <td>-1.095764</td>\n",
       "    </tr>\n",
       "    <tr>\n",
       "      <th>4</th>\n",
       "      <td>-0.444365</td>\n",
       "      <td>-0.597088</td>\n",
       "      <td>-1.650087</td>\n",
       "      <td>-0.415564</td>\n",
       "      <td>-0.226388</td>\n",
       "      <td>-1.095764</td>\n",
       "    </tr>\n",
       "    <tr>\n",
       "      <th>5</th>\n",
       "      <td>-0.444365</td>\n",
       "      <td>-0.597088</td>\n",
       "      <td>-1.650087</td>\n",
       "      <td>-0.415564</td>\n",
       "      <td>-0.116782</td>\n",
       "      <td>-1.095764</td>\n",
       "    </tr>\n",
       "    <tr>\n",
       "      <th>6</th>\n",
       "      <td>-0.444365</td>\n",
       "      <td>-0.597088</td>\n",
       "      <td>-1.650087</td>\n",
       "      <td>-0.415564</td>\n",
       "      <td>0.321644</td>\n",
       "      <td>-1.095764</td>\n",
       "    </tr>\n",
       "    <tr>\n",
       "      <th>7</th>\n",
       "      <td>-0.444365</td>\n",
       "      <td>-0.597088</td>\n",
       "      <td>-1.650087</td>\n",
       "      <td>-0.415564</td>\n",
       "      <td>-0.116782</td>\n",
       "      <td>-1.095764</td>\n",
       "    </tr>\n",
       "    <tr>\n",
       "      <th>8</th>\n",
       "      <td>-0.444365</td>\n",
       "      <td>-0.597088</td>\n",
       "      <td>-1.650087</td>\n",
       "      <td>-0.415564</td>\n",
       "      <td>0.102431</td>\n",
       "      <td>-1.095764</td>\n",
       "    </tr>\n",
       "    <tr>\n",
       "      <th>9</th>\n",
       "      <td>-0.444365</td>\n",
       "      <td>-0.597088</td>\n",
       "      <td>-1.650087</td>\n",
       "      <td>-0.415564</td>\n",
       "      <td>-0.007175</td>\n",
       "      <td>-1.095764</td>\n",
       "    </tr>\n",
       "  </tbody>\n",
       "</table>\n",
       "</div>"
      ],
      "text/plain": [
       "   MaxBookees_x  Number Booked_x  Price (INR)_x  MaxBookees_y  \\\n",
       "0     -0.444365        -0.597088      -1.650087     -0.415564   \n",
       "1     -0.444365        -0.597088      -1.650087     -0.415564   \n",
       "2     -0.444365        -0.597088      -1.650087     -0.415564   \n",
       "3     -0.444365        -0.597088      -1.650087     -0.415564   \n",
       "4     -0.444365        -0.597088      -1.650087     -0.415564   \n",
       "5     -0.444365        -0.597088      -1.650087     -0.415564   \n",
       "6     -0.444365        -0.597088      -1.650087     -0.415564   \n",
       "7     -0.444365        -0.597088      -1.650087     -0.415564   \n",
       "8     -0.444365        -0.597088      -1.650087     -0.415564   \n",
       "9     -0.444365        -0.597088      -1.650087     -0.415564   \n",
       "\n",
       "   Number Booked_y  Price (INR)_y  \n",
       "0        -0.116782      -1.095764  \n",
       "1        -0.335995      -1.095764  \n",
       "2         0.212038      -1.095764  \n",
       "3        -0.226388      -1.095764  \n",
       "4        -0.226388      -1.095764  \n",
       "5        -0.116782      -1.095764  \n",
       "6         0.321644      -1.095764  \n",
       "7        -0.116782      -1.095764  \n",
       "8         0.102431      -1.095764  \n",
       "9        -0.007175      -1.095764  "
      ]
     },
     "execution_count": 29,
     "metadata": {},
     "output_type": "execute_result"
    }
   ],
   "source": [
    "scaled_features.head(10)"
   ]
  },
  {
   "cell_type": "code",
   "execution_count": 30,
   "id": "591cbdf1-9796-4420-b314-b0803d3bcc90",
   "metadata": {},
   "outputs": [],
   "source": [
    "#NOW DATA IS READY FOR MODELLING"
   ]
  },
  {
   "cell_type": "code",
   "execution_count": 31,
   "id": "79ebbb27-9765-46dc-8b1a-6c248755ccae",
   "metadata": {},
   "outputs": [],
   "source": [
    "#2.Building the Model"
   ]
  },
  {
   "cell_type": "code",
   "execution_count": 32,
   "id": "09596f7a-1ca9-4c1c-959a-dd380f27ea00",
   "metadata": {},
   "outputs": [],
   "source": [
    "import numpy as np\n",
    "from sklearn.linear_model import LinearRegression\n",
    "from sklearn.model_selection import train_test_split\n",
    "from sklearn.metrics import mean_squared_error, r2_score"
   ]
  },
  {
   "cell_type": "code",
   "execution_count": 33,
   "id": "e09f830b-0e49-4b5a-861d-e22066119036",
   "metadata": {},
   "outputs": [
    {
     "ename": "TypeError",
     "evalue": "Cannot convert [['HXP' 'HXP' 'HXP' ... 'NBL' 'NBL' 'NBL']\n ['20-20-20  2.45pm-3.45pm' '20-20-20  2.45pm-3.45pm'\n  '20-20-20  2.45pm-3.45pm' ... 'Zumba Gold 12.45-1.45pm'\n  'Zumba Gold 12.45-1.45pm' 'Zumba Gold 12.45-1.45pm']\n ['2018-04-08' '2018-04-08' '2018-04-08' ... '2018-05-29' '2018-05-29'\n  '2018-05-29']\n ...\n ['Aqua Fit 4pm - 5pm' 'Aqua Fit 4pm - 5pm' 'Aqua Fit 4pm - 5pm' ...\n  'Zumba Gold 12.45-1.45pm' 'Zumba Gold 12.45-1.45pm'\n  'Zumba Gold 12.45-1.45pm']\n ['2018-06-10' '2018-06-17' '2018-06-24' ... '2018-06-12' '2018-06-19'\n  '2018-06-26']\n ['16:00:00' '16:00:00' '16:00:00' ... '12:45:00' '12:45:00' '12:45:00']] to numeric",
     "output_type": "error",
     "traceback": [
      "\u001b[1;31m---------------------------------------------------------------------------\u001b[0m",
      "\u001b[1;31mTypeError\u001b[0m                                 Traceback (most recent call last)",
      "Cell \u001b[1;32mIn[33], line 3\u001b[0m\n\u001b[0;32m      1\u001b[0m \u001b[38;5;66;03m# Handle infinite values by replacing them with NaN and then filling them\u001b[39;00m\n\u001b[0;32m      2\u001b[0m data \u001b[38;5;241m=\u001b[39m data\u001b[38;5;241m.\u001b[39mreplace([np\u001b[38;5;241m.\u001b[39minf, \u001b[38;5;241m-\u001b[39mnp\u001b[38;5;241m.\u001b[39minf], np\u001b[38;5;241m.\u001b[39mnan)\n\u001b[1;32m----> 3\u001b[0m data \u001b[38;5;241m=\u001b[39m data\u001b[38;5;241m.\u001b[39mfillna(\u001b[43mdata\u001b[49m\u001b[38;5;241;43m.\u001b[39;49m\u001b[43mmedian\u001b[49m\u001b[43m(\u001b[49m\u001b[43m)\u001b[49m)\n",
      "File \u001b[1;32m~\\AppData\\Local\\Programs\\Python\\Python312\\Lib\\site-packages\\pandas\\core\\frame.py:11693\u001b[0m, in \u001b[0;36mDataFrame.median\u001b[1;34m(self, axis, skipna, numeric_only, **kwargs)\u001b[0m\n\u001b[0;32m  11685\u001b[0m \u001b[38;5;129m@doc\u001b[39m(make_doc(\u001b[38;5;124m\"\u001b[39m\u001b[38;5;124mmedian\u001b[39m\u001b[38;5;124m\"\u001b[39m, ndim\u001b[38;5;241m=\u001b[39m\u001b[38;5;241m2\u001b[39m))\n\u001b[0;32m  11686\u001b[0m \u001b[38;5;28;01mdef\u001b[39;00m \u001b[38;5;21mmedian\u001b[39m(\n\u001b[0;32m  11687\u001b[0m     \u001b[38;5;28mself\u001b[39m,\n\u001b[1;32m   (...)\u001b[0m\n\u001b[0;32m  11691\u001b[0m     \u001b[38;5;241m*\u001b[39m\u001b[38;5;241m*\u001b[39mkwargs,\n\u001b[0;32m  11692\u001b[0m ):\n\u001b[1;32m> 11693\u001b[0m     result \u001b[38;5;241m=\u001b[39m \u001b[38;5;28;43msuper\u001b[39;49m\u001b[43m(\u001b[49m\u001b[43m)\u001b[49m\u001b[38;5;241;43m.\u001b[39;49m\u001b[43mmedian\u001b[49m\u001b[43m(\u001b[49m\u001b[43maxis\u001b[49m\u001b[43m,\u001b[49m\u001b[43m \u001b[49m\u001b[43mskipna\u001b[49m\u001b[43m,\u001b[49m\u001b[43m \u001b[49m\u001b[43mnumeric_only\u001b[49m\u001b[43m,\u001b[49m\u001b[43m \u001b[49m\u001b[38;5;241;43m*\u001b[39;49m\u001b[38;5;241;43m*\u001b[39;49m\u001b[43mkwargs\u001b[49m\u001b[43m)\u001b[49m\n\u001b[0;32m  11694\u001b[0m     \u001b[38;5;28;01mif\u001b[39;00m \u001b[38;5;28misinstance\u001b[39m(result, Series):\n\u001b[0;32m  11695\u001b[0m         result \u001b[38;5;241m=\u001b[39m result\u001b[38;5;241m.\u001b[39m__finalize__(\u001b[38;5;28mself\u001b[39m, method\u001b[38;5;241m=\u001b[39m\u001b[38;5;124m\"\u001b[39m\u001b[38;5;124mmedian\u001b[39m\u001b[38;5;124m\"\u001b[39m)\n",
      "File \u001b[1;32m~\\AppData\\Local\\Programs\\Python\\Python312\\Lib\\site-packages\\pandas\\core\\generic.py:12428\u001b[0m, in \u001b[0;36mNDFrame.median\u001b[1;34m(self, axis, skipna, numeric_only, **kwargs)\u001b[0m\n\u001b[0;32m  12421\u001b[0m \u001b[38;5;28;01mdef\u001b[39;00m \u001b[38;5;21mmedian\u001b[39m(\n\u001b[0;32m  12422\u001b[0m     \u001b[38;5;28mself\u001b[39m,\n\u001b[0;32m  12423\u001b[0m     axis: Axis \u001b[38;5;241m|\u001b[39m \u001b[38;5;28;01mNone\u001b[39;00m \u001b[38;5;241m=\u001b[39m \u001b[38;5;241m0\u001b[39m,\n\u001b[1;32m   (...)\u001b[0m\n\u001b[0;32m  12426\u001b[0m     \u001b[38;5;241m*\u001b[39m\u001b[38;5;241m*\u001b[39mkwargs,\n\u001b[0;32m  12427\u001b[0m ) \u001b[38;5;241m-\u001b[39m\u001b[38;5;241m>\u001b[39m Series \u001b[38;5;241m|\u001b[39m \u001b[38;5;28mfloat\u001b[39m:\n\u001b[1;32m> 12428\u001b[0m     \u001b[38;5;28;01mreturn\u001b[39;00m \u001b[38;5;28;43mself\u001b[39;49m\u001b[38;5;241;43m.\u001b[39;49m\u001b[43m_stat_function\u001b[49m\u001b[43m(\u001b[49m\n\u001b[0;32m  12429\u001b[0m \u001b[43m        \u001b[49m\u001b[38;5;124;43m\"\u001b[39;49m\u001b[38;5;124;43mmedian\u001b[39;49m\u001b[38;5;124;43m\"\u001b[39;49m\u001b[43m,\u001b[49m\u001b[43m \u001b[49m\u001b[43mnanops\u001b[49m\u001b[38;5;241;43m.\u001b[39;49m\u001b[43mnanmedian\u001b[49m\u001b[43m,\u001b[49m\u001b[43m \u001b[49m\u001b[43maxis\u001b[49m\u001b[43m,\u001b[49m\u001b[43m \u001b[49m\u001b[43mskipna\u001b[49m\u001b[43m,\u001b[49m\u001b[43m \u001b[49m\u001b[43mnumeric_only\u001b[49m\u001b[43m,\u001b[49m\u001b[43m \u001b[49m\u001b[38;5;241;43m*\u001b[39;49m\u001b[38;5;241;43m*\u001b[39;49m\u001b[43mkwargs\u001b[49m\n\u001b[0;32m  12430\u001b[0m \u001b[43m    \u001b[49m\u001b[43m)\u001b[49m\n",
      "File \u001b[1;32m~\\AppData\\Local\\Programs\\Python\\Python312\\Lib\\site-packages\\pandas\\core\\generic.py:12374\u001b[0m, in \u001b[0;36mNDFrame._stat_function\u001b[1;34m(self, name, func, axis, skipna, numeric_only, **kwargs)\u001b[0m\n\u001b[0;32m  12370\u001b[0m nv\u001b[38;5;241m.\u001b[39mvalidate_func(name, (), kwargs)\n\u001b[0;32m  12372\u001b[0m validate_bool_kwarg(skipna, \u001b[38;5;124m\"\u001b[39m\u001b[38;5;124mskipna\u001b[39m\u001b[38;5;124m\"\u001b[39m, none_allowed\u001b[38;5;241m=\u001b[39m\u001b[38;5;28;01mFalse\u001b[39;00m)\n\u001b[1;32m> 12374\u001b[0m \u001b[38;5;28;01mreturn\u001b[39;00m \u001b[38;5;28;43mself\u001b[39;49m\u001b[38;5;241;43m.\u001b[39;49m\u001b[43m_reduce\u001b[49m\u001b[43m(\u001b[49m\n\u001b[0;32m  12375\u001b[0m \u001b[43m    \u001b[49m\u001b[43mfunc\u001b[49m\u001b[43m,\u001b[49m\u001b[43m \u001b[49m\u001b[43mname\u001b[49m\u001b[38;5;241;43m=\u001b[39;49m\u001b[43mname\u001b[49m\u001b[43m,\u001b[49m\u001b[43m \u001b[49m\u001b[43maxis\u001b[49m\u001b[38;5;241;43m=\u001b[39;49m\u001b[43maxis\u001b[49m\u001b[43m,\u001b[49m\u001b[43m \u001b[49m\u001b[43mskipna\u001b[49m\u001b[38;5;241;43m=\u001b[39;49m\u001b[43mskipna\u001b[49m\u001b[43m,\u001b[49m\u001b[43m \u001b[49m\u001b[43mnumeric_only\u001b[49m\u001b[38;5;241;43m=\u001b[39;49m\u001b[43mnumeric_only\u001b[49m\n\u001b[0;32m  12376\u001b[0m \u001b[43m\u001b[49m\u001b[43m)\u001b[49m\n",
      "File \u001b[1;32m~\\AppData\\Local\\Programs\\Python\\Python312\\Lib\\site-packages\\pandas\\core\\frame.py:11549\u001b[0m, in \u001b[0;36mDataFrame._reduce\u001b[1;34m(self, op, name, axis, skipna, numeric_only, filter_type, **kwds)\u001b[0m\n\u001b[0;32m  11545\u001b[0m     df \u001b[38;5;241m=\u001b[39m df\u001b[38;5;241m.\u001b[39mT\n\u001b[0;32m  11547\u001b[0m \u001b[38;5;66;03m# After possibly _get_data and transposing, we are now in the\u001b[39;00m\n\u001b[0;32m  11548\u001b[0m \u001b[38;5;66;03m#  simple case where we can use BlockManager.reduce\u001b[39;00m\n\u001b[1;32m> 11549\u001b[0m res \u001b[38;5;241m=\u001b[39m \u001b[43mdf\u001b[49m\u001b[38;5;241;43m.\u001b[39;49m\u001b[43m_mgr\u001b[49m\u001b[38;5;241;43m.\u001b[39;49m\u001b[43mreduce\u001b[49m\u001b[43m(\u001b[49m\u001b[43mblk_func\u001b[49m\u001b[43m)\u001b[49m\n\u001b[0;32m  11550\u001b[0m out \u001b[38;5;241m=\u001b[39m df\u001b[38;5;241m.\u001b[39m_constructor_from_mgr(res, axes\u001b[38;5;241m=\u001b[39mres\u001b[38;5;241m.\u001b[39maxes)\u001b[38;5;241m.\u001b[39miloc[\u001b[38;5;241m0\u001b[39m]\n\u001b[0;32m  11551\u001b[0m \u001b[38;5;28;01mif\u001b[39;00m out_dtype \u001b[38;5;129;01mis\u001b[39;00m \u001b[38;5;129;01mnot\u001b[39;00m \u001b[38;5;28;01mNone\u001b[39;00m \u001b[38;5;129;01mand\u001b[39;00m out\u001b[38;5;241m.\u001b[39mdtype \u001b[38;5;241m!=\u001b[39m \u001b[38;5;124m\"\u001b[39m\u001b[38;5;124mboolean\u001b[39m\u001b[38;5;124m\"\u001b[39m:\n",
      "File \u001b[1;32m~\\AppData\\Local\\Programs\\Python\\Python312\\Lib\\site-packages\\pandas\\core\\internals\\managers.py:1500\u001b[0m, in \u001b[0;36mBlockManager.reduce\u001b[1;34m(self, func)\u001b[0m\n\u001b[0;32m   1498\u001b[0m res_blocks: \u001b[38;5;28mlist\u001b[39m[Block] \u001b[38;5;241m=\u001b[39m []\n\u001b[0;32m   1499\u001b[0m \u001b[38;5;28;01mfor\u001b[39;00m blk \u001b[38;5;129;01min\u001b[39;00m \u001b[38;5;28mself\u001b[39m\u001b[38;5;241m.\u001b[39mblocks:\n\u001b[1;32m-> 1500\u001b[0m     nbs \u001b[38;5;241m=\u001b[39m \u001b[43mblk\u001b[49m\u001b[38;5;241;43m.\u001b[39;49m\u001b[43mreduce\u001b[49m\u001b[43m(\u001b[49m\u001b[43mfunc\u001b[49m\u001b[43m)\u001b[49m\n\u001b[0;32m   1501\u001b[0m     res_blocks\u001b[38;5;241m.\u001b[39mextend(nbs)\n\u001b[0;32m   1503\u001b[0m index \u001b[38;5;241m=\u001b[39m Index([\u001b[38;5;28;01mNone\u001b[39;00m])  \u001b[38;5;66;03m# placeholder\u001b[39;00m\n",
      "File \u001b[1;32m~\\AppData\\Local\\Programs\\Python\\Python312\\Lib\\site-packages\\pandas\\core\\internals\\blocks.py:404\u001b[0m, in \u001b[0;36mBlock.reduce\u001b[1;34m(self, func)\u001b[0m\n\u001b[0;32m    398\u001b[0m \u001b[38;5;129m@final\u001b[39m\n\u001b[0;32m    399\u001b[0m \u001b[38;5;28;01mdef\u001b[39;00m \u001b[38;5;21mreduce\u001b[39m(\u001b[38;5;28mself\u001b[39m, func) \u001b[38;5;241m-\u001b[39m\u001b[38;5;241m>\u001b[39m \u001b[38;5;28mlist\u001b[39m[Block]:\n\u001b[0;32m    400\u001b[0m     \u001b[38;5;66;03m# We will apply the function and reshape the result into a single-row\u001b[39;00m\n\u001b[0;32m    401\u001b[0m     \u001b[38;5;66;03m#  Block with the same mgr_locs; squeezing will be done at a higher level\u001b[39;00m\n\u001b[0;32m    402\u001b[0m     \u001b[38;5;28;01massert\u001b[39;00m \u001b[38;5;28mself\u001b[39m\u001b[38;5;241m.\u001b[39mndim \u001b[38;5;241m==\u001b[39m \u001b[38;5;241m2\u001b[39m\n\u001b[1;32m--> 404\u001b[0m     result \u001b[38;5;241m=\u001b[39m \u001b[43mfunc\u001b[49m\u001b[43m(\u001b[49m\u001b[38;5;28;43mself\u001b[39;49m\u001b[38;5;241;43m.\u001b[39;49m\u001b[43mvalues\u001b[49m\u001b[43m)\u001b[49m\n\u001b[0;32m    406\u001b[0m     \u001b[38;5;28;01mif\u001b[39;00m \u001b[38;5;28mself\u001b[39m\u001b[38;5;241m.\u001b[39mvalues\u001b[38;5;241m.\u001b[39mndim \u001b[38;5;241m==\u001b[39m \u001b[38;5;241m1\u001b[39m:\n\u001b[0;32m    407\u001b[0m         res_values \u001b[38;5;241m=\u001b[39m result\n",
      "File \u001b[1;32m~\\AppData\\Local\\Programs\\Python\\Python312\\Lib\\site-packages\\pandas\\core\\frame.py:11468\u001b[0m, in \u001b[0;36mDataFrame._reduce.<locals>.blk_func\u001b[1;34m(values, axis)\u001b[0m\n\u001b[0;32m  11466\u001b[0m         \u001b[38;5;28;01mreturn\u001b[39;00m np\u001b[38;5;241m.\u001b[39marray([result])\n\u001b[0;32m  11467\u001b[0m \u001b[38;5;28;01melse\u001b[39;00m:\n\u001b[1;32m> 11468\u001b[0m     \u001b[38;5;28;01mreturn\u001b[39;00m \u001b[43mop\u001b[49m\u001b[43m(\u001b[49m\u001b[43mvalues\u001b[49m\u001b[43m,\u001b[49m\u001b[43m \u001b[49m\u001b[43maxis\u001b[49m\u001b[38;5;241;43m=\u001b[39;49m\u001b[43maxis\u001b[49m\u001b[43m,\u001b[49m\u001b[43m \u001b[49m\u001b[43mskipna\u001b[49m\u001b[38;5;241;43m=\u001b[39;49m\u001b[43mskipna\u001b[49m\u001b[43m,\u001b[49m\u001b[43m \u001b[49m\u001b[38;5;241;43m*\u001b[39;49m\u001b[38;5;241;43m*\u001b[39;49m\u001b[43mkwds\u001b[49m\u001b[43m)\u001b[49m\n",
      "File \u001b[1;32m~\\AppData\\Local\\Programs\\Python\\Python312\\Lib\\site-packages\\pandas\\core\\nanops.py:147\u001b[0m, in \u001b[0;36mbottleneck_switch.__call__.<locals>.f\u001b[1;34m(values, axis, skipna, **kwds)\u001b[0m\n\u001b[0;32m    145\u001b[0m         result \u001b[38;5;241m=\u001b[39m alt(values, axis\u001b[38;5;241m=\u001b[39maxis, skipna\u001b[38;5;241m=\u001b[39mskipna, \u001b[38;5;241m*\u001b[39m\u001b[38;5;241m*\u001b[39mkwds)\n\u001b[0;32m    146\u001b[0m \u001b[38;5;28;01melse\u001b[39;00m:\n\u001b[1;32m--> 147\u001b[0m     result \u001b[38;5;241m=\u001b[39m \u001b[43malt\u001b[49m\u001b[43m(\u001b[49m\u001b[43mvalues\u001b[49m\u001b[43m,\u001b[49m\u001b[43m \u001b[49m\u001b[43maxis\u001b[49m\u001b[38;5;241;43m=\u001b[39;49m\u001b[43maxis\u001b[49m\u001b[43m,\u001b[49m\u001b[43m \u001b[49m\u001b[43mskipna\u001b[49m\u001b[38;5;241;43m=\u001b[39;49m\u001b[43mskipna\u001b[49m\u001b[43m,\u001b[49m\u001b[43m \u001b[49m\u001b[38;5;241;43m*\u001b[39;49m\u001b[38;5;241;43m*\u001b[39;49m\u001b[43mkwds\u001b[49m\u001b[43m)\u001b[49m\n\u001b[0;32m    149\u001b[0m \u001b[38;5;28;01mreturn\u001b[39;00m result\n",
      "File \u001b[1;32m~\\AppData\\Local\\Programs\\Python\\Python312\\Lib\\site-packages\\pandas\\core\\nanops.py:787\u001b[0m, in \u001b[0;36mnanmedian\u001b[1;34m(values, axis, skipna, mask)\u001b[0m\n\u001b[0;32m    785\u001b[0m     inferred \u001b[38;5;241m=\u001b[39m lib\u001b[38;5;241m.\u001b[39minfer_dtype(values)\n\u001b[0;32m    786\u001b[0m     \u001b[38;5;28;01mif\u001b[39;00m inferred \u001b[38;5;129;01min\u001b[39;00m [\u001b[38;5;124m\"\u001b[39m\u001b[38;5;124mstring\u001b[39m\u001b[38;5;124m\"\u001b[39m, \u001b[38;5;124m\"\u001b[39m\u001b[38;5;124mmixed\u001b[39m\u001b[38;5;124m\"\u001b[39m]:\n\u001b[1;32m--> 787\u001b[0m         \u001b[38;5;28;01mraise\u001b[39;00m \u001b[38;5;167;01mTypeError\u001b[39;00m(\u001b[38;5;124mf\u001b[39m\u001b[38;5;124m\"\u001b[39m\u001b[38;5;124mCannot convert \u001b[39m\u001b[38;5;132;01m{\u001b[39;00mvalues\u001b[38;5;132;01m}\u001b[39;00m\u001b[38;5;124m to numeric\u001b[39m\u001b[38;5;124m\"\u001b[39m)\n\u001b[0;32m    788\u001b[0m \u001b[38;5;28;01mtry\u001b[39;00m:\n\u001b[0;32m    789\u001b[0m     values \u001b[38;5;241m=\u001b[39m values\u001b[38;5;241m.\u001b[39mastype(\u001b[38;5;124m\"\u001b[39m\u001b[38;5;124mf8\u001b[39m\u001b[38;5;124m\"\u001b[39m)\n",
      "\u001b[1;31mTypeError\u001b[0m: Cannot convert [['HXP' 'HXP' 'HXP' ... 'NBL' 'NBL' 'NBL']\n ['20-20-20  2.45pm-3.45pm' '20-20-20  2.45pm-3.45pm'\n  '20-20-20  2.45pm-3.45pm' ... 'Zumba Gold 12.45-1.45pm'\n  'Zumba Gold 12.45-1.45pm' 'Zumba Gold 12.45-1.45pm']\n ['2018-04-08' '2018-04-08' '2018-04-08' ... '2018-05-29' '2018-05-29'\n  '2018-05-29']\n ...\n ['Aqua Fit 4pm - 5pm' 'Aqua Fit 4pm - 5pm' 'Aqua Fit 4pm - 5pm' ...\n  'Zumba Gold 12.45-1.45pm' 'Zumba Gold 12.45-1.45pm'\n  'Zumba Gold 12.45-1.45pm']\n ['2018-06-10' '2018-06-17' '2018-06-24' ... '2018-06-12' '2018-06-19'\n  '2018-06-26']\n ['16:00:00' '16:00:00' '16:00:00' ... '12:45:00' '12:45:00' '12:45:00']] to numeric"
     ]
    }
   ],
   "source": [
    "# Extract numeric columns\n",
    "numeric_cols = data.select_dtypes(include=[np.number]).columns\n",
    "\n",
    "# Handle infinite values by replacing them with NaN\n",
    "data[numeric_cols] = data[numeric_cols].replace([np.inf, -np.inf], np.nan)\n",
    "\n",
    "# Fill NaN values with the median of each numeric column\n",
    "data[numeric_cols] = data[numeric_cols].fillna(data[numeric_cols].median())"
   ]
  },
  {
   "cell_type": "code",
   "execution_count": null,
   "id": "7ec7baef-bce6-4b57-867c-f3ace679b3b2",
   "metadata": {},
   "outputs": [],
   "source": [
    "# Log transformation for elasticity calculation\n",
    "data['log_price'] = np.log(data['Price (INR)_x'])\n",
    "data['log_quantity'] = np.log(data['Number Booked_x'])"
   ]
  },
  {
   "cell_type": "code",
   "execution_count": null,
   "id": "42aca930-d54d-49e2-8cc2-43bdddc43cd0",
   "metadata": {},
   "outputs": [],
   "source": [
    "# Check for any remaining NaN or infinite values\n",
    "print(data[['log_price', 'log_quantity']].isnull().sum())  # Ensure there are no NaN values\n",
    "print(np.isfinite(data[['log_price', 'log_quantity']]).all())  # Ensure there are no infinite values"
   ]
  },
  {
   "cell_type": "code",
   "execution_count": null,
   "id": "b16f6e23-e61b-4077-b85d-38c7f3d556a6",
   "metadata": {},
   "outputs": [],
   "source": [
    "# Removing any rows with NaN or infinite values after transformation\n",
    "data = data.dropna(subset=['log_price', 'log_quantity'])\n",
    "data = data[np.isfinite(data['log_price']) & np.isfinite(data['log_quantity'])]"
   ]
  },
  {
   "cell_type": "code",
   "execution_count": null,
   "id": "c7679df9-98fe-4cbf-890f-27a2e33eff1f",
   "metadata": {},
   "outputs": [],
   "source": [
    "# Split the data into training and testing sets\n",
    "X = data[['log_price']]\n",
    "y = data['log_quantity']\n",
    "X_train, X_test, y_train, y_test = train_test_split(X, y, test_size=0.2, random_state=42)"
   ]
  },
  {
   "cell_type": "code",
   "execution_count": null,
   "id": "342ded7e-6cb8-4c32-86b9-10106a43e6eb",
   "metadata": {},
   "outputs": [],
   "source": [
    "# Fit the regression model\n",
    "model = LinearRegression()\n",
    "model.fit(X_train, y_train)"
   ]
  },
  {
   "cell_type": "code",
   "execution_count": null,
   "id": "801f2c44-7f54-44a0-b945-37eb9ff8fd8b",
   "metadata": {},
   "outputs": [],
   "source": [
    "# Predict on the test set\n",
    "y_pred = model.predict(X_test)"
   ]
  },
  {
   "cell_type": "code",
   "execution_count": null,
   "id": "009a04be-3031-4f9d-bbec-bb8d211dfc25",
   "metadata": {},
   "outputs": [],
   "source": [
    "# Print the model coefficients\n",
    "print(f\"Intercept: {model.intercept_}\")\n",
    "print(f\"Coefficient: {model.coef_[0]}\")"
   ]
  },
  {
   "cell_type": "code",
   "execution_count": null,
   "id": "095ea720-4164-4f77-ae69-0946c21868d5",
   "metadata": {},
   "outputs": [],
   "source": [
    "#3.Validating the Model"
   ]
  },
  {
   "cell_type": "code",
   "execution_count": 15,
   "id": "7605fb3b-4d01-4099-ab7b-d61a9d82be86",
   "metadata": {},
   "outputs": [
    {
     "ename": "NameError",
     "evalue": "name 'y_test' is not defined",
     "output_type": "error",
     "traceback": [
      "\u001b[1;31m---------------------------------------------------------------------------\u001b[0m",
      "\u001b[1;31mNameError\u001b[0m                                 Traceback (most recent call last)",
      "Cell \u001b[1;32mIn[15], line 2\u001b[0m\n\u001b[0;32m      1\u001b[0m \u001b[38;5;66;03m# Evaluate the model\u001b[39;00m\n\u001b[1;32m----> 2\u001b[0m mse \u001b[38;5;241m=\u001b[39m mean_squared_error(\u001b[43my_test\u001b[49m, y_pred)\n\u001b[0;32m      3\u001b[0m r2 \u001b[38;5;241m=\u001b[39m r2_score(y_test, y_pred)\n\u001b[0;32m      4\u001b[0m \u001b[38;5;28mprint\u001b[39m(\u001b[38;5;124mf\u001b[39m\u001b[38;5;124m\"\u001b[39m\u001b[38;5;124mMean Squared Error: \u001b[39m\u001b[38;5;132;01m{\u001b[39;00mmse\u001b[38;5;132;01m}\u001b[39;00m\u001b[38;5;124m\"\u001b[39m)\n",
      "\u001b[1;31mNameError\u001b[0m: name 'y_test' is not defined"
     ]
    }
   ],
   "source": [
    "# Evaluate the model\n",
    "mse = mean_squared_error(y_test, y_pred)\n",
    "r2 = r2_score(y_test, y_pred)\n",
    "print(f\"Mean Squared Error: {mse}\")\n",
    "print(f\"R^2 Score: {r2}\")"
   ]
  },
  {
   "cell_type": "code",
   "execution_count": 16,
   "id": "ad75ae35-e34b-4bdf-9797-baee0d20935e",
   "metadata": {},
   "outputs": [
    {
     "ename": "NameError",
     "evalue": "name 'y_test' is not defined",
     "output_type": "error",
     "traceback": [
      "\u001b[1;31m---------------------------------------------------------------------------\u001b[0m",
      "\u001b[1;31mNameError\u001b[0m                                 Traceback (most recent call last)",
      "Cell \u001b[1;32mIn[16], line 2\u001b[0m\n\u001b[0;32m      1\u001b[0m \u001b[38;5;66;03m# Residuals\u001b[39;00m\n\u001b[1;32m----> 2\u001b[0m residuals \u001b[38;5;241m=\u001b[39m \u001b[43my_test\u001b[49m \u001b[38;5;241m-\u001b[39m y_pred\n",
      "\u001b[1;31mNameError\u001b[0m: name 'y_test' is not defined"
     ]
    }
   ],
   "source": [
    "# Residuals\n",
    "residuals = y_test - y_pred"
   ]
  },
  {
   "cell_type": "code",
   "execution_count": 17,
   "id": "640c9ff4-48b9-48df-8696-2ed17ea0241b",
   "metadata": {},
   "outputs": [],
   "source": [
    "import matplotlib.pyplot as plt"
   ]
  },
  {
   "cell_type": "code",
   "execution_count": 18,
   "id": "d2347ca0-ba3c-465b-bd02-5eabfd1a5718",
   "metadata": {},
   "outputs": [
    {
     "ename": "NameError",
     "evalue": "name 'y_pred' is not defined",
     "output_type": "error",
     "traceback": [
      "\u001b[1;31m---------------------------------------------------------------------------\u001b[0m",
      "\u001b[1;31mNameError\u001b[0m                                 Traceback (most recent call last)",
      "Cell \u001b[1;32mIn[18], line 6\u001b[0m\n\u001b[0;32m      4\u001b[0m \u001b[38;5;66;03m# Residual plot\u001b[39;00m\n\u001b[0;32m      5\u001b[0m plt\u001b[38;5;241m.\u001b[39msubplot(\u001b[38;5;241m2\u001b[39m, \u001b[38;5;241m1\u001b[39m, \u001b[38;5;241m1\u001b[39m)\n\u001b[1;32m----> 6\u001b[0m plt\u001b[38;5;241m.\u001b[39mscatter(\u001b[43my_pred\u001b[49m, residuals)\n\u001b[0;32m      7\u001b[0m plt\u001b[38;5;241m.\u001b[39maxhline(y\u001b[38;5;241m=\u001b[39m\u001b[38;5;241m0\u001b[39m, color\u001b[38;5;241m=\u001b[39m\u001b[38;5;124m'\u001b[39m\u001b[38;5;124mr\u001b[39m\u001b[38;5;124m'\u001b[39m, linestyle\u001b[38;5;241m=\u001b[39m\u001b[38;5;124m'\u001b[39m\u001b[38;5;124m--\u001b[39m\u001b[38;5;124m'\u001b[39m)\n\u001b[0;32m      8\u001b[0m plt\u001b[38;5;241m.\u001b[39mxlabel(\u001b[38;5;124m'\u001b[39m\u001b[38;5;124mPredicted Values\u001b[39m\u001b[38;5;124m'\u001b[39m)\n",
      "\u001b[1;31mNameError\u001b[0m: name 'y_pred' is not defined"
     ]
    },
    {
     "data": {
      "image/png": "[encoded data removed]",
      "text/plain": [
       "<Figure size 1000x600 with 1 Axes>"
      ]
     },
     "metadata": {},
     "output_type": "display_data"
    }
   ],
   "source": [
    "# Plotting residuals\n",
    "plt.figure(figsize=(10, 6))\n",
    "\n",
    "# Residual plot\n",
    "plt.subplot(2, 1, 1)\n",
    "plt.scatter(y_pred, residuals)\n",
    "plt.axhline(y=0, color='r', linestyle='--')\n",
    "plt.xlabel('Predicted Values')\n",
    "plt.ylabel('Residuals')\n",
    "plt.title('Residual Plot')\n",
    "\n",
    "# Histogram of residuals\n",
    "plt.subplot(2, 1, 2)\n",
    "plt.hist(residuals, bins=20, edgecolor='k')\n",
    "plt.xlabel('Residuals')\n",
    "plt.ylabel('Frequency')\n",
    "plt.title('Histogram of Residuals')\n",
    "\n",
    "plt.tight_layout()\n",
    "plt.show()"
   ]
  },
  {
   "cell_type": "code",
   "execution_count": null,
   "id": "a45736d4-026e-49cf-aa05-22ce86998df6",
   "metadata": {},
   "outputs": [],
   "source": []
  }
 ],
 "metadata": {
  "kernelspec": {
   "display_name": "Python 3 (ipykernel)",
   "language": "python",
   "name": "python3"
  },
  "language_info": {
   "codemirror_mode": {
    "name": "ipython",
    "version": 3
   },
   "file_extension": ".py",
   "mimetype": "text/x-python",
   "name": "python",
   "nbconvert_exporter": "python",
   "pygments_lexer": "ipython3",
   "version": "3.12.2"
  }
 },
 "nbformat": 4,
 "nbformat_minor": 5
}
