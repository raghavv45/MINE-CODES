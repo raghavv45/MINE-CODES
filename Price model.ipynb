{
  "nbformat": 4,
  "nbformat_minor": 0,
  "metadata": {
    "colab": {
      "provenance": []
    },
    "kernelspec": {
      "name": "python3",
      "display_name": "Python 3"
    },
    "language_info": {
      "name": "python"
    }
  },
  "cells": [
    {
      "cell_type": "code",
      "execution_count": null,
      "metadata": {
        "id": "Rk2eJ4Ok8rWi"
      },
      "outputs": [],
      "source": [
        "import pandas as pd\n",
        "\n",
        "df=pd.read_excel(\"/content/Classes June 2018 Cleaned and preprocessed data.xlsx\")\n",
        "df1=pd.read_excel(\"/content/Cleaned and Preprocessed data Classes april-May 2018.xlsx\")\n"
      ]
    },
    {
      "cell_type": "code",
      "source": [
        "df.info()\n",
        "df1.info()"
      ],
      "metadata": {
        "colab": {
          "base_uri": "https://localhost:8080/"
        },
        "id": "nREgyu22VFq9",
        "outputId": "ce376384-816d-440d-f908-7b90b695bb94"
      },
      "execution_count": null,
      "outputs": [
        {
          "output_type": "stream",
          "name": "stdout",
          "text": [
            "<class 'pandas.core.frame.DataFrame'>\n",
            "RangeIndex: 1112 entries, 0 to 1111\n",
            "Data columns (total 7 columns):\n",
            " #   Column                                   Non-Null Count  Dtype         \n",
            "---  ------                                   --------------  -----         \n",
            " 0   ActivitySiteID                           1112 non-null   object        \n",
            " 1   ActivityDescription                      1112 non-null   object        \n",
            " 2   BookingEndDateTime (Month / Day / Year)  1112 non-null   datetime64[ns]\n",
            " 3   BookingStartTime                         1112 non-null   object        \n",
            " 4   MaxBookees                               1112 non-null   float64       \n",
            " 5   Number Booked                            1112 non-null   float64       \n",
            " 6   Price (INR)                              1112 non-null   float64       \n",
            "dtypes: datetime64[ns](1), float64(3), object(3)\n",
            "memory usage: 60.9+ KB\n",
            "<class 'pandas.core.frame.DataFrame'>\n",
            "RangeIndex: 2177 entries, 0 to 2176\n",
            "Data columns (total 7 columns):\n",
            " #   Column                                   Non-Null Count  Dtype         \n",
            "---  ------                                   --------------  -----         \n",
            " 0   ActivitySiteID                           2177 non-null   object        \n",
            " 1   ActivityDescription                      2177 non-null   object        \n",
            " 2   BookingEndDateTime (Month / Day / Year)  2177 non-null   datetime64[ns]\n",
            " 3   BookingStartTime                         2177 non-null   object        \n",
            " 4   MaxBookees                               2177 non-null   float64       \n",
            " 5   Number Booked                            2177 non-null   float64       \n",
            " 6   Price (INR)                              2159 non-null   float64       \n",
            "dtypes: datetime64[ns](1), float64(3), object(3)\n",
            "memory usage: 119.2+ KB\n"
          ]
        }
      ]
    },
    {
      "cell_type": "code",
      "source": [
        "# Prepare Data for Modeling:\n",
        "\n",
        "\n",
        "# Extract the price column from both dataframes\n",
        "price = df['Price (INR)']\n",
        "price1 = df1['Price (INR)']\n",
        "\n",
        "# Concatenate the price columns\n",
        "price = pd.concat([price, price1])\n",
        "\n",
        "# Check for missing values\n",
        "missing_values = price.isnull().sum()\n",
        "\n",
        "# If there are missing values, handle them (e.g., impute with mean or median)\n",
        "if missing_values > 0:\n",
        "  # Impute missing values with the median\n",
        "  price = price.fillna(price.median())\n",
        "\n",
        "\n",
        "\n",
        "# The price data is now prepared for modeling\n"
      ],
      "metadata": {
        "id": "dxNWCZ65VNel"
      },
      "execution_count": null,
      "outputs": []
    },
    {
      "cell_type": "code",
      "source": [
        "import statsmodels.api as sm\n",
        "\n",
        "# Add a constant term to the data\n",
        "X = sm.add_constant(price)\n",
        "\n",
        "# Define the target variable\n",
        "y = price\n",
        "\n",
        "# Create a linear regression model\n",
        "model = sm.OLS(y, X)\n",
        "\n",
        "# Fit the model to the data\n",
        "results = model.fit()\n",
        "\n",
        "# Print the model summary\n",
        "print(results.summary())\n"
      ],
      "metadata": {
        "colab": {
          "base_uri": "https://localhost:8080/"
        },
        "id": "K_uzxdLZWCQj",
        "outputId": "2da1c91a-bb8b-4197-8523-010b9225c58f"
      },
      "execution_count": null,
      "outputs": [
        {
          "output_type": "stream",
          "name": "stdout",
          "text": [
            "                            OLS Regression Results                            \n",
            "==============================================================================\n",
            "Dep. Variable:            Price (INR)   R-squared:                       1.000\n",
            "Model:                            OLS   Adj. R-squared:                  1.000\n",
            "Method:                 Least Squares   F-statistic:                 3.207e+32\n",
            "Date:                Tue, 02 Jul 2024   Prob (F-statistic):               0.00\n",
            "Time:                        21:32:46   Log-Likelihood:             1.0511e+05\n",
            "No. Observations:                3289   AIC:                        -2.102e+05\n",
            "Df Residuals:                    3287   BIC:                        -2.102e+05\n",
            "Df Model:                           1                                         \n",
            "Covariance Type:            nonrobust                                         \n",
            "===============================================================================\n",
            "                  coef    std err          t      P>|t|      [0.025      0.975]\n",
            "-------------------------------------------------------------------------------\n",
            "const        7.108e-16   5.57e-17     12.764      0.000    6.02e-16     8.2e-16\n",
            "Price (INR)     1.0000   5.58e-17   1.79e+16      0.000       1.000       1.000\n",
            "==============================================================================\n",
            "Omnibus:                      190.023   Durbin-Watson:                   0.130\n",
            "Prob(Omnibus):                  0.000   Jarque-Bera (JB):              218.514\n",
            "Skew:                          -0.620   Prob(JB):                     3.55e-48\n",
            "Kurtosis:                       2.763   Cond. No.                         1.00\n",
            "==============================================================================\n",
            "\n",
            "Notes:\n",
            "[1] Standard Errors assume that the covariance matrix of the errors is correctly specified.\n"
          ]
        }
      ]
    },
    {
      "cell_type": "code",
      "source": [
        "\n",
        "\n",
        "# Calculate R-squared\n",
        "r_squared = results.rsquared\n",
        "\n",
        "# Calculate Mean Squared Error (MSE)\n",
        "mse = results.mse_resid\n",
        "\n",
        "# Print model performance metrics\n",
        "print(\"R-squared:\", r_squared)\n",
        "print(\"MSE:\", mse)\n",
        "\n",
        "\n"
      ],
      "metadata": {
        "colab": {
          "base_uri": "https://localhost:8080/"
        },
        "id": "BEgLHapVY_2a",
        "outputId": "75943302-c965-47c1-9d44-1be99df1ce4b"
      },
      "execution_count": null,
      "outputs": [
        {
          "output_type": "stream",
          "name": "stdout",
          "text": [
            "R-squared: nan\n",
            "MSE: nan\n"
          ]
        }
      ]
    },
    {
      "cell_type": "code",
      "source": [
        "# Plot residuals versus fitted values\n",
        "import matplotlib.pyplot as plt\n",
        "\n",
        "plt.scatter(fitted_values, residuals)\n",
        "plt.axhline(y=0, color='red')\n",
        "plt.xlabel('Fitted Values')\n",
        "plt.ylabel('Residuals')\n",
        "plt.title('Residual Plot')\n",
        "plt.show()"
      ],
      "metadata": {
        "colab": {
          "base_uri": "https://localhost:8080/",
          "height": 472
        },
        "id": "73nkMRDhZ22F",
        "outputId": "ea31d804-085f-4a08-bcb9-904054a03dab"
      },
      "execution_count": null,
      "outputs": [
        {
          "output_type": "display_data",
          "data": {
            "text/plain": [
              "<Figure size 640x480 with 1 Axes>"
            ],
            "image/png": "[encoded data removed]"
          },
          "metadata": {}
        }
      ]
    }
  ]
}