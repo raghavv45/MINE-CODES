{
  "nbformat": 4,
  "nbformat_minor": 0,
  "metadata": {
    "colab": {
      "provenance": []
    },
    "kernelspec": {
      "name": "python3",
      "display_name": "Python 3"
    },
    "language_info": {
      "name": "python"
    }
  },
  "cells": [
    {
      "cell_type": "code",
      "execution_count": 10,
      "metadata": {
        "id": "Rk2eJ4Ok8rWi"
      },
      "outputs": [],
      "source": [
        "import pandas as pd\n",
        "\n",
        "df=pd.read_excel(\"/content/Classes June 2018 Cleaned and preprocessed data.xlsx\")\n",
        "df1=pd.read_excel(\"/content/Cleaned and Preprocessed data Classes april-May 2018.xlsx\")\n"
      ]
    },
    {
      "cell_type": "code",
      "source": [
        "df.info()\n",
        "df1.info()"
      ],
      "metadata": {
        "colab": {
          "base_uri": "https://localhost:8080/"
        },
        "id": "UdEggxlRqHv_",
        "outputId": "89da3e8a-46a5-4f0f-9002-2d3e98f34962"
      },
      "execution_count": 3,
      "outputs": [
        {
          "output_type": "stream",
          "name": "stdout",
          "text": [
            "<class 'pandas.core.frame.DataFrame'>\n",
            "RangeIndex: 1112 entries, 0 to 1111\n",
            "Data columns (total 7 columns):\n",
            " #   Column                                   Non-Null Count  Dtype         \n",
            "---  ------                                   --------------  -----         \n",
            " 0   ActivitySiteID                           1112 non-null   object        \n",
            " 1   ActivityDescription                      1112 non-null   object        \n",
            " 2   BookingEndDateTime (Month / Day / Year)  1112 non-null   datetime64[ns]\n",
            " 3   BookingStartTime                         1112 non-null   object        \n",
            " 4   MaxBookees                               1112 non-null   float64       \n",
            " 5   Number Booked                            1112 non-null   float64       \n",
            " 6   Price (INR)                              1112 non-null   float64       \n",
            "dtypes: datetime64[ns](1), float64(3), object(3)\n",
            "memory usage: 60.9+ KB\n",
            "<class 'pandas.core.frame.DataFrame'>\n",
            "RangeIndex: 2177 entries, 0 to 2176\n",
            "Data columns (total 7 columns):\n",
            " #   Column                                   Non-Null Count  Dtype         \n",
            "---  ------                                   --------------  -----         \n",
            " 0   ActivitySiteID                           2177 non-null   object        \n",
            " 1   ActivityDescription                      2177 non-null   object        \n",
            " 2   BookingEndDateTime (Month / Day / Year)  2177 non-null   datetime64[ns]\n",
            " 3   BookingStartTime                         2177 non-null   object        \n",
            " 4   MaxBookees                               2177 non-null   float64       \n",
            " 5   Number Booked                            2177 non-null   float64       \n",
            " 6   Price (INR)                              2159 non-null   float64       \n",
            "dtypes: datetime64[ns](1), float64(3), object(3)\n",
            "memory usage: 119.2+ KB\n"
          ]
        }
      ]
    },
    {
      "cell_type": "code",
      "source": [
        "\n",
        "# Identify high-demand classes by analyzing the average number of bookings per class type.\n",
        "df.groupby('ActivitySiteID')['Number Booked'].mean().sort_values(ascending=False)\n",
        "\n",
        "\n"
      ],
      "metadata": {
        "colab": {
          "base_uri": "https://localhost:8080/"
        },
        "id": "iAFuLCEOrTsk",
        "outputId": "5a6bb189-6e51-43fb-b96d-efb0c21932ce"
      },
      "execution_count": 15,
      "outputs": [
        {
          "output_type": "execute_result",
          "data": {
            "text/plain": [
              "ActivitySiteID\n",
              "NBL    0.238244\n",
              "BRP    0.220236\n",
              "SBP    0.017941\n",
              "HXP   -0.041180\n",
              "TSC   -0.526702\n",
              "Name: Number Booked, dtype: float64"
            ]
          },
          "metadata": {},
          "execution_count": 15
        }
      ]
    },
    {
      "cell_type": "code",
      "source": [
        "# Identify peak times by analyzing the number of bookings per BookingEndDateTime (Month / Day / Year).\n",
        "df.groupby('BookingEndDateTime (Month / Day / Year)')['Number Booked'].sum().sort_values(ascending=False)"
      ],
      "metadata": {
        "colab": {
          "base_uri": "https://localhost:8080/"
        },
        "id": "40pf2KTfsMt0",
        "outputId": "b7a9f3a4-8272-46f7-b6aa-bcda039de04b"
      },
      "execution_count": 16,
      "outputs": [
        {
          "output_type": "execute_result",
          "data": {
            "text/plain": [
              "BookingEndDateTime (Month / Day / Year)\n",
              "2018-06-12    20.120077\n",
              "2018-06-05    16.417104\n",
              "2018-06-26    11.715485\n",
              "2018-06-18     9.222700\n",
              "2018-06-19     8.885370\n",
              "2018-06-11     4.749304\n",
              "2018-06-03     4.192778\n",
              "2018-06-14     3.849758\n",
              "2018-06-17     3.538135\n",
              "2018-06-23     3.121722\n",
              "2018-06-10     2.992599\n",
              "2018-06-09     2.688629\n",
              "2018-06-02     1.924879\n",
              "2018-06-24     1.243548\n",
              "2018-06-25     0.272572\n",
              "2018-06-16     0.179163\n",
              "2018-06-07    -1.708038\n",
              "2018-06-30    -2.224531\n",
              "2018-06-21    -3.020661\n",
              "2018-06-04    -3.116424\n",
              "2018-06-08    -3.467098\n",
              "2018-06-15    -5.659250\n",
              "2018-06-20    -7.566468\n",
              "2018-06-13    -8.012905\n",
              "2018-06-22    -8.056273\n",
              "2018-06-01    -8.605145\n",
              "2018-06-06    -8.769983\n",
              "2018-06-28    -9.137337\n",
              "2018-06-27   -12.694507\n",
              "2018-06-29   -13.075205\n",
              "Name: Number Booked, dtype: float64"
            ]
          },
          "metadata": {},
          "execution_count": 16
        }
      ]
    },
    {
      "cell_type": "code",
      "source": [
        "# prompt: Use correlation analysis to understand factors contributing to high demand\n",
        "\n",
        "import pandas as pd\n",
        "\n",
        "# Calculate the correlation matrix\n",
        "correlation_matrix = df.select_dtypes(include=['number']).corr()\n",
        "\n",
        "# Select the columns related to demand and contributing factors\n",
        "relevant_columns = ['Number Booked', 'MaxBookees','Price (INR)']\n",
        "correlation_matrix = correlation_matrix[relevant_columns]\n",
        "\n",
        "# Display the correlation matrix\n",
        "print(correlation_matrix)\n",
        "\n",
        "# Analyze the correlation coefficients to identify factors with strong positive or negative relationships with demand\n"
      ],
      "metadata": {
        "colab": {
          "base_uri": "https://localhost:8080/"
        },
        "id": "BfgagR2HsPH0",
        "outputId": "2f81b03c-9a05-4220-fa42-31e3ff3b9c78"
      },
      "execution_count": 24,
      "outputs": [
        {
          "output_type": "stream",
          "name": "stdout",
          "text": [
            "               Number Booked  MaxBookees  Price (INR)\n",
            "MaxBookees          0.424055    1.000000    -0.090777\n",
            "Number Booked       1.000000    0.424055    -0.210143\n",
            "Price (INR)        -0.210143   -0.090777     1.000000\n"
          ]
        }
      ]
    },
    {
      "cell_type": "code",
      "source": [
        "# prompt: Formulate Pricing Strategy:\n",
        "# Develop initial pricing recommendations based on identified high-demand periods and classes.\n",
        "\n",
        "# Identify high-demand periods and classes\n",
        "high_demand_periods = df.groupby('BookingEndDateTime (Month / Day / Year)')['Number Booked'].sum().sort_values(ascending=False).head(5)\n",
        "high_demand_classes = df.groupby('ActivitySiteID')['Number Booked'].mean().sort_values(ascending=False).head(5)\n",
        "\n",
        "# Develop initial pricing recommendations\n",
        "# Increase prices for high-demand periods and classes\n",
        "# Decrease prices for low-demand periods and classes\n",
        "# Offer discounts or promotions during off-peak times\n",
        "# Consider implementing dynamic pricing based on real-time demand\n",
        "\n",
        "# Print initial pricing recommendations\n",
        "print(\"High-demand periods:\")\n",
        "print(high_demand_periods)\n",
        "print(\"\\nHigh-demand classes:\")\n",
        "print(high_demand_classes)\n",
        "print(\"\\nPricing recommendations:\")\n",
        "print(\"- Increase prices for high-demand periods and classes.\")\n",
        "print(\"- Decrease prices for low-demand periods and classes.\")\n",
        "print(\"- Offer discounts or promotions during off-peak times.\")\n",
        "print(\"- Consider implementing dynamic pricing based on real-time demand.\")\n"
      ],
      "metadata": {
        "colab": {
          "base_uri": "https://localhost:8080/"
        },
        "id": "cNNNqwcxu6Ym",
        "outputId": "2af93940-1531-4e58-a981-f66bdbfbdd33"
      },
      "execution_count": 25,
      "outputs": [
        {
          "output_type": "stream",
          "name": "stdout",
          "text": [
            "High-demand periods:\n",
            "BookingEndDateTime (Month / Day / Year)\n",
            "2018-06-12    20.120077\n",
            "2018-06-05    16.417104\n",
            "2018-06-26    11.715485\n",
            "2018-06-18     9.222700\n",
            "2018-06-19     8.885370\n",
            "Name: Number Booked, dtype: float64\n",
            "\n",
            "High-demand classes:\n",
            "ActivitySiteID\n",
            "NBL    0.238244\n",
            "BRP    0.220236\n",
            "SBP    0.017941\n",
            "HXP   -0.041180\n",
            "TSC   -0.526702\n",
            "Name: Number Booked, dtype: float64\n",
            "\n",
            "Pricing recommendations:\n",
            "- Increase prices for high-demand periods and classes.\n",
            "- Decrease prices for low-demand periods and classes.\n",
            "- Offer discounts or promotions during off-peak times.\n",
            "- Consider implementing dynamic pricing based on real-time demand.\n"
          ]
        }
      ]
    }
  ]
}